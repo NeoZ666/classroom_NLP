{
  "nbformat": 4,
  "nbformat_minor": 0,
  "metadata": {
    "colab": {
      "provenance": []
    },
    "kernelspec": {
      "name": "python3",
      "display_name": "Python 3"
    },
    "language_info": {
      "name": "python"
    }
  },
  "cells": [
    {
      "cell_type": "markdown",
      "source": [
        "## **Write python program for the following (NLP lab)**\n",
        "1. Word tokenizer\n",
        "2. Regional language filteration\n",
        "3. Stopwords filteration\n",
        "4. Puncuation filteration\n",
        "5. Validation filteration(email address, name and phone number)"
      ],
      "metadata": {
        "id": "f1y7vgk4UfQk"
      }
    },
    {
      "cell_type": "markdown",
      "source": [
        "## 1. Word tokenizer"
      ],
      "metadata": {
        "id": "xo9UPZuBUrzj"
      }
    },
    {
      "cell_type": "code",
      "source": [
        "import nltk\n",
        "from nltk.tokenize import word_tokenize\n",
        "nltk.download('punkt')\n",
        "nltk.download('words')"
      ],
      "metadata": {
        "colab": {
          "base_uri": "https://localhost:8080/"
        },
        "id": "4I79kwi6VWX6",
        "outputId": "4be43e6b-7adc-43ed-cb6a-6636eb86bd6f"
      },
      "execution_count": null,
      "outputs": [
        {
          "output_type": "stream",
          "name": "stderr",
          "text": [
            "[nltk_data] Downloading package punkt to /root/nltk_data...\n",
            "[nltk_data]   Package punkt is already up-to-date!\n",
            "[nltk_data] Downloading package words to /root/nltk_data...\n",
            "[nltk_data]   Package words is already up-to-date!\n"
          ]
        },
        {
          "output_type": "execute_result",
          "data": {
            "text/plain": [
              "True"
            ]
          },
          "metadata": {},
          "execution_count": 53
        }
      ]
    },
    {
      "cell_type": "code",
      "execution_count": null,
      "metadata": {
        "colab": {
          "base_uri": "https://localhost:8080/"
        },
        "id": "Pth5s19bUY4_",
        "outputId": "da0cad21-18de-4733-e37c-b212ef447aba"
      },
      "outputs": [
        {
          "output_type": "stream",
          "name": "stdout",
          "text": [
            "['This', 'is', 'a', 'sample', 'text.', 'This', 'text', 'is', 'used', 'to', 'check', 'the', 'working', 'of', 'tokenizer', 'using', 'nltk', 'library']\n"
          ]
        }
      ],
      "source": [
        "# from nltk.tokenize import word_tokenize\n",
        "import re\n",
        "text = \"This is a sample text. This text is used to check the working of tokenizer using nltk library\"\n",
        "x = re.split(\"\\s\", text)\n",
        "print(x)\n",
        "# tokenized_words = word_tokenize(text)\n",
        "# print(tokenized_words)"
      ]
    },
    {
      "cell_type": "markdown",
      "source": [
        "## 2. Regional language filteration"
      ],
      "metadata": {
        "id": "nNOID_i7Vrtk"
      }
    },
    {
      "cell_type": "code",
      "source": [
        "regional_text = \"I like भोजन. We won विश्व कप in the year 2019 manas\"\n",
        "tokenized_regional = word_tokenize(regional_text)"
      ],
      "metadata": {
        "id": "7rhgcGCOWSSP"
      },
      "execution_count": null,
      "outputs": []
    },
    {
      "cell_type": "code",
      "source": [
        "def custom_filter(text):\n",
        "  text_match = re.search(r'[a-zA-Z0-9]',text)\n",
        "  if text_match :\n",
        "      return True\n",
        "  else:\n",
        "      return False\n",
        "\n",
        "filtered = filter(custom_filter,tokenized_regional)"
      ],
      "metadata": {
        "id": "Ez9rly8CXMVC"
      },
      "execution_count": null,
      "outputs": []
    },
    {
      "cell_type": "code",
      "source": [
        "english_filter = []\n",
        "for text in filtered:\n",
        "  english_filter.append(text)"
      ],
      "metadata": {
        "id": "6OEPUrwzZ9Va"
      },
      "execution_count": null,
      "outputs": []
    },
    {
      "cell_type": "code",
      "source": [
        "english_filter"
      ],
      "metadata": {
        "colab": {
          "base_uri": "https://localhost:8080/"
        },
        "id": "skG3Bo-zmiZE",
        "outputId": "3e2da834-325e-4562-af05-4eb005e353a6"
      },
      "execution_count": null,
      "outputs": [
        {
          "output_type": "execute_result",
          "data": {
            "text/plain": [
              "['I', 'like', 'We', 'won', 'in', 'the', 'year', '2019', 'manas']"
            ]
          },
          "metadata": {},
          "execution_count": 66
        }
      ]
    },
    {
      "cell_type": "markdown",
      "source": [
        "## 3.Stopword filteration"
      ],
      "metadata": {
        "id": "pQdCtG0-dvgb"
      }
    },
    {
      "cell_type": "code",
      "source": [
        "from nltk.corpus import stopwords\n",
        "\n",
        "nltk.download('stopwords')\n",
        "print(stopwords.words('english'))"
      ],
      "metadata": {
        "colab": {
          "base_uri": "https://localhost:8080/"
        },
        "id": "b9wh7Jl1eN_k",
        "outputId": "d55f58dd-e1b3-40cc-c79f-3c96886fff94"
      },
      "execution_count": null,
      "outputs": [
        {
          "output_type": "stream",
          "name": "stdout",
          "text": [
            "['i', 'me', 'my', 'myself', 'we', 'our', 'ours', 'ourselves', 'you', \"you're\", \"you've\", \"you'll\", \"you'd\", 'your', 'yours', 'yourself', 'yourselves', 'he', 'him', 'his', 'himself', 'she', \"she's\", 'her', 'hers', 'herself', 'it', \"it's\", 'its', 'itself', 'they', 'them', 'their', 'theirs', 'themselves', 'what', 'which', 'who', 'whom', 'this', 'that', \"that'll\", 'these', 'those', 'am', 'is', 'are', 'was', 'were', 'be', 'been', 'being', 'have', 'has', 'had', 'having', 'do', 'does', 'did', 'doing', 'a', 'an', 'the', 'and', 'but', 'if', 'or', 'because', 'as', 'until', 'while', 'of', 'at', 'by', 'for', 'with', 'about', 'against', 'between', 'into', 'through', 'during', 'before', 'after', 'above', 'below', 'to', 'from', 'up', 'down', 'in', 'out', 'on', 'off', 'over', 'under', 'again', 'further', 'then', 'once', 'here', 'there', 'when', 'where', 'why', 'how', 'all', 'any', 'both', 'each', 'few', 'more', 'most', 'other', 'some', 'such', 'no', 'nor', 'not', 'only', 'own', 'same', 'so', 'than', 'too', 'very', 's', 't', 'can', 'will', 'just', 'don', \"don't\", 'should', \"should've\", 'now', 'd', 'll', 'm', 'o', 're', 've', 'y', 'ain', 'aren', \"aren't\", 'couldn', \"couldn't\", 'didn', \"didn't\", 'doesn', \"doesn't\", 'hadn', \"hadn't\", 'hasn', \"hasn't\", 'haven', \"haven't\", 'isn', \"isn't\", 'ma', 'mightn', \"mightn't\", 'mustn', \"mustn't\", 'needn', \"needn't\", 'shan', \"shan't\", 'shouldn', \"shouldn't\", 'wasn', \"wasn't\", 'weren', \"weren't\", 'won', \"won't\", 'wouldn', \"wouldn't\"]\n"
          ]
        },
        {
          "output_type": "stream",
          "name": "stderr",
          "text": [
            "[nltk_data] Downloading package stopwords to /root/nltk_data...\n",
            "[nltk_data]   Unzipping corpora/stopwords.zip.\n"
          ]
        }
      ]
    },
    {
      "cell_type": "code",
      "source": [
        "stopword_text = \"This is a sample text. Several Languages are spoken in India like Hindi, Marathi, Tamil and more.\"\n",
        "tokenized_stopword = word_tokenize(stopword_text)\n",
        "tokenized_stopword"
      ],
      "metadata": {
        "colab": {
          "base_uri": "https://localhost:8080/"
        },
        "id": "uSGWPrq-dzEM",
        "outputId": "4927c95f-7c63-4015-a10d-825366b8ece7"
      },
      "execution_count": null,
      "outputs": [
        {
          "output_type": "execute_result",
          "data": {
            "text/plain": [
              "['This',\n",
              " 'is',\n",
              " 'a',\n",
              " 'sample',\n",
              " 'text',\n",
              " '.',\n",
              " 'Several',\n",
              " 'Languages',\n",
              " 'are',\n",
              " 'spoken',\n",
              " 'in',\n",
              " 'India',\n",
              " 'like',\n",
              " 'Hindi',\n",
              " ',',\n",
              " 'Marathi',\n",
              " ',',\n",
              " 'Tamil',\n",
              " 'and',\n",
              " 'more',\n",
              " '.']"
            ]
          },
          "metadata": {},
          "execution_count": 37
        }
      ]
    },
    {
      "cell_type": "code",
      "source": [
        "def stopword_filter(text):\n",
        "  if text not in stopwords.words('english'):\n",
        "      return False\n",
        "  else:\n",
        "      return True\n",
        "\n",
        "stopword_filtered = filter(stopword_filter,tokenized_stopword)"
      ],
      "metadata": {
        "id": "EwEFoVzIgGld"
      },
      "execution_count": null,
      "outputs": []
    },
    {
      "cell_type": "code",
      "source": [
        "stopword_list = []\n",
        "for s in stopword_filtered:\n",
        "  stopword_list.append(s)"
      ],
      "metadata": {
        "id": "I1cShIVbgYLy"
      },
      "execution_count": null,
      "outputs": []
    },
    {
      "cell_type": "code",
      "source": [
        "stopword_list"
      ],
      "metadata": {
        "colab": {
          "base_uri": "https://localhost:8080/"
        },
        "id": "sZPzZAovg8bR",
        "outputId": "947ce069-5be3-4446-91b3-123b762cd372"
      },
      "execution_count": null,
      "outputs": [
        {
          "output_type": "execute_result",
          "data": {
            "text/plain": [
              "['is', 'a', 'are', 'in', 'and', 'more']"
            ]
          },
          "metadata": {},
          "execution_count": 48
        }
      ]
    },
    {
      "cell_type": "markdown",
      "source": [
        "## 4. Puncuation filteration"
      ],
      "metadata": {
        "id": "fFj878vhhjJb"
      }
    },
    {
      "cell_type": "code",
      "source": [
        "import re\n",
        "\n",
        "text = \"This is a sample text. Several Languages are spoken in India like Hindi, Marathi, Tamil and more.Ram's mother is ill\"\n",
        "pattern = r'[^\\w\\s]'\n",
        "filtered_text = re.sub(pattern, '', text)\n",
        "print(filtered_text)"
      ],
      "metadata": {
        "colab": {
          "base_uri": "https://localhost:8080/"
        },
        "id": "exY21v_pi3Tb",
        "outputId": "621fb826-83da-474c-9755-abcd8f133245"
      },
      "execution_count": null,
      "outputs": [
        {
          "output_type": "stream",
          "name": "stdout",
          "text": [
            "This is a sample text Several Languages are spoken in India like Hindi Marathi Tamil and moreRams mother is ill\n"
          ]
        }
      ]
    },
    {
      "cell_type": "markdown",
      "source": [
        "## 5.Validation filteration(email address, name and phone number)"
      ],
      "metadata": {
        "id": "bGK6frT9jGIK"
      }
    },
    {
      "cell_type": "code",
      "source": [
        "text = \"My name is shivam. My phone number is 8104976230 and email id is dhs@test.com\""
      ],
      "metadata": {
        "id": "G1HGXeqejEkN"
      },
      "execution_count": null,
      "outputs": []
    },
    {
      "cell_type": "code",
      "source": [
        "import re\n",
        "\n",
        "text = \"My name is Shivam. My phone number is 8104976230 and email id is dhs@test.com\"\n",
        "\n",
        "email_pattern = r'\\b[A-Za-z0-9._%+-]+@[A-Za-z0-9.-]+\\.[A-Z|a-z]{2,}\\b'\n",
        "phone_pattern = r'\\b\\d{10}\\b'\n",
        "name_pattern = r'My name is (\\w+)'\n",
        "\n",
        "email_match = re.search(email_pattern, text)\n",
        "if email_match:\n",
        "    email = email_match.group(0)\n",
        "else:\n",
        "    email = None\n",
        "\n",
        "phone_match = re.search(phone_pattern, text)\n",
        "if phone_match:\n",
        "    phone = phone_match.group(0)\n",
        "else:\n",
        "    phone = None\n",
        "\n",
        "name_match = re.search(name_pattern, text)\n",
        "if name_match:\n",
        "    name = name_match.group(1)\n",
        "else:\n",
        "    name = None\n",
        "\n",
        "print(f\"Name: {name}\")\n",
        "print(f\"Phone Number: {phone}\")\n",
        "print(f\"Email Address: {email}\")"
      ],
      "metadata": {
        "colab": {
          "base_uri": "https://localhost:8080/"
        },
        "id": "qwdZscXQjqYd",
        "outputId": "a48b5340-9791-4601-a8bb-10d7a7a904aa"
      },
      "execution_count": null,
      "outputs": [
        {
          "output_type": "stream",
          "name": "stdout",
          "text": [
            "Name: harsh\n",
            "Phone Number: 9833494060\n",
            "Email Address: dhs@test.com\n"
          ]
        }
      ]
    }
  ]
}
